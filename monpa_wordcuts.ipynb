{
 "cells": [
  {
   "cell_type": "code",
   "execution_count": null,
   "metadata": {},
   "outputs": [],
   "source": [
    "import pandas as pd \n",
    "import os\n",
    "df = pd.read_excel('CSC.xlsx') "
   ]
  },
  {
   "cell_type": "code",
   "execution_count": null,
   "metadata": {},
   "outputs": [],
   "source": [
    "n = df['SentimentLabel'] == '負面'\n",
    "df = df[n]\n",
    "df"
   ]
  },
  {
   "cell_type": "code",
   "execution_count": null,
   "metadata": {},
   "outputs": [],
   "source": [
    "def LongPseg(long_sentence, split_char):\n",
    "    seg = []\n",
    "    for item in long_sentence.split(split_char):\n",
    "        if item != \"\\n\": seg.extend(monpa.pseg(item+split_char))\n",
    "    return seg[:-1]"
   ]
  },
  {
   "cell_type": "code",
   "execution_count": null,
   "metadata": {},
   "outputs": [],
   "source": [
    "import monpa"
   ]
  },
  {
   "cell_type": "code",
   "execution_count": null,
   "metadata": {},
   "outputs": [],
   "source": [
    "from collections import Counter\n",
    "WORD = []\n",
    "for i in df['Comments']:\n",
    "    result = LongPseg(i,\"，\")\n",
    "    word = result[0][0]\n",
    "    pos = result[0][1]\n",
    "#     if pos== 'Na':\n",
    "#         print(word)\n",
    "#     if pos == 'Nb':\n",
    "#         print(word)\n",
    "#     if pos == 'VH':\n",
    "#         print(word)\n",
    "    for j in range(len(result)):\n",
    "        word = result[j][0]\n",
    "        WORD.append(word)"
   ]
  },
  {
   "cell_type": "code",
   "execution_count": null,
   "metadata": {},
   "outputs": [],
   "source": [
    "WORD"
   ]
  },
  {
   "cell_type": "code",
   "execution_count": null,
   "metadata": {},
   "outputs": [],
   "source": [
    "RESULT = pd.DataFrame()\n",
    "P = Counter(WORD).most_common()\n",
    "\n",
    "for i in range(2730):\n",
    "    p = monpa.pseg(P[i][0])\n",
    "    if int(P[i][1]) >= 5:\n",
    "        try:\n",
    "            Text = P[i][0]\n",
    "            Pos = p[0][1]\n",
    "            Count = P[i][1]\n",
    "#             print(Text,Pos,Count)\n",
    "            RESULTS = pd.DataFrame(data = [{'Text':Text,\n",
    "                                 'Pos':Pos,\n",
    "                                 'Count':Count}],\n",
    "                      columns = ['Text', 'Pos', 'Count'])\n",
    "            RESULT = pd.concat([RESULT, RESULTS], ignore_index=True)\n",
    "        except: \n",
    "            print('error')\n",
    "RESULT"
   ]
  },
  {
   "cell_type": "code",
   "execution_count": null,
   "metadata": {},
   "outputs": [],
   "source": [
    "DD = pd.DataFrame()\n",
    "D = RESULT['Pos']=='Na'"
   ]
  },
  {
   "cell_type": "code",
   "execution_count": null,
   "metadata": {},
   "outputs": [],
   "source": [
    "import os\n",
    "RESULT[RESULT['Pos']=='VH']"
   ]
  },
  {
   "cell_type": "code",
   "execution_count": null,
   "metadata": {},
   "outputs": [],
   "source": [
    "RESULT.to_excel('DDD.xlsx')"
   ]
  },
  {
   "cell_type": "code",
   "execution_count": null,
   "metadata": {},
   "outputs": [],
   "source": []
  }
 ],
 "metadata": {
  "kernelspec": {
   "display_name": "Python 3",
   "language": "python",
   "name": "python3"
  },
  "language_info": {
   "codemirror_mode": {
    "name": "ipython",
    "version": 3
   },
   "file_extension": ".py",
   "mimetype": "text/x-python",
   "name": "python",
   "nbconvert_exporter": "python",
   "pygments_lexer": "ipython3",
   "version": "3.7.4"
  },
  "varInspector": {
   "cols": {
    "lenName": 16,
    "lenType": 16,
    "lenVar": 40
   },
   "kernels_config": {
    "python": {
     "delete_cmd_postfix": "",
     "delete_cmd_prefix": "del ",
     "library": "var_list.py",
     "varRefreshCmd": "print(var_dic_list())"
    },
    "r": {
     "delete_cmd_postfix": ") ",
     "delete_cmd_prefix": "rm(",
     "library": "var_list.r",
     "varRefreshCmd": "cat(var_dic_list()) "
    }
   },
   "types_to_exclude": [
    "module",
    "function",
    "builtin_function_or_method",
    "instance",
    "_Feature"
   ],
   "window_display": false
  }
 },
 "nbformat": 4,
 "nbformat_minor": 2
}
