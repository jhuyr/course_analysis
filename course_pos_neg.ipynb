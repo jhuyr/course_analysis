{
 "cells": [
  {
   "cell_type": "code",
   "execution_count": null,
   "metadata": {},
   "outputs": [],
   "source": [
    "import paddlehub as hub \n",
    "senta = hub.Module(name=\"senta_bilstm\") "
   ]
  },
  {
   "cell_type": "code",
   "execution_count": null,
   "metadata": {},
   "outputs": [],
   "source": [
    "import pandas as pd \n",
    "import os\n",
    "df = pd.read_excel('wom.xlsx') \n",
    "df = df.fillna('')\n",
    "df = df.replace('\\n','', regex=True)\n",
    "df = df.replace('\\u2002','', regex=True)"
   ]
  },
  {
   "cell_type": "code",
   "execution_count": null,
   "metadata": {},
   "outputs": [],
   "source": [
    "CSC = pd.DataFrame()\n",
    "for i in range(168):\n",
    "    CourseName = df.iloc[i][0]\n",
    "    TeacherName = df.iloc[i][1]\n",
    "    \n",
    "    for j in range(2,38):\n",
    "        Comments = df.iloc[i][j]\n",
    "\n",
    "        if Comments:\n",
    "            t = [Comments]\n",
    "            input_dict = {\"text\": t}\n",
    "            results = senta.sentiment_classify(data=input_dict)[0]\n",
    "            SentimentScore = results.get('positive_probs')\n",
    "            if SentimentScore >= 0.6:\n",
    "                SentimentLabel = '正面'\n",
    "            elif SentimentScore >= 0.4 and SentimentScore < 0.6:\n",
    "                SentimentLabel = '中立'\n",
    "            else:\n",
    "                SentimentLabel = '負面'\n",
    "#             print(CourseName,TeacherName,Comments,SentimentScore,SentimentLabel,\"\\n\")\n",
    "            if Comments=='None':\n",
    "                Results = pd.DataFrame(\n",
    "                        data = [{'CourseName':CourseName,'TeacherName':TeacherName,'Comments':Comments,'SentimentScore':0,'SentimentLabel':'無口碑'}],\n",
    "                        columns = ['CourseName', 'TeacherName', 'Comments', 'SentimentScore', 'SentimentLabel'])\n",
    "                print(Results)\n",
    "                CSC = pd.concat([CSC, Results])\n",
    "            else:\n",
    "                Results = pd.DataFrame(\n",
    "                        data = [{'CourseName':CourseName,'TeacherName':TeacherName,'Comments':Comments,'SentimentScore':SentimentScore,'SentimentLabel':SentimentLabel}],\n",
    "                        columns = ['CourseName', 'TeacherName', 'Comments', 'SentimentScore', 'SentimentLabel'])\n",
    "                print(Results)\n",
    "                CSC = pd.concat([CSC, Results])"
   ]
  },
  {
   "cell_type": "code",
   "execution_count": null,
   "metadata": {},
   "outputs": [],
   "source": [
    "avg = CSC.groupby(['CourseName','TeacherName']).mean()\n",
    "avg = avg.sort_values('SentimentScore', ascending=False)\n",
    "wom = ''\n",
    "a=[]\n",
    "b=[]\n",
    "c=[]\n",
    "d=[]\n",
    "e=[]\n",
    "f=[]\n",
    "for i in avg.iterrows():\n",
    "    if 0.8 <= i[1][0]:\n",
    "        a.append([i[0][0],i[0][1],i[1][0]])\n",
    "    if 0.6 < i[1][0] < 0.8:\n",
    "        b.append([i[0][0],i[0][1],i[1][0]])\n",
    "    if 0.4 < i[1][0] < 0.6:\n",
    "        c.append([i[0][0],i[0][1],i[1][0]])\n",
    "    if 0.2 < i[1][0] < 0.4:\n",
    "        d.append([i[0][0],i[0][1],i[1][0]])\n",
    "    if [1][0] <= 0.2:\n",
    "        e.append([i[0][0],i[0][1],i[1][0]])\n",
    "    if i[1][0] == 0:\n",
    "        f.append([i[0][0],i[0][1],i[1][0]])\n",
    "\n",
    "print('\\n極為正面 : ',len(a),'\\n',a)\n",
    "print('\\n正面 : ',len(b),'\\n',b)\n",
    "print('\\n褒貶不一 :',len(c),' \\n',c)\n",
    "print('\\n負面 :',len(d),' ',d)\n",
    "print('\\n極為負面 :',len(e),'\\n ',e)\n",
    "print('\\n無評論 :',len(f),'\\n ',f)"
   ]
  },
  {
   "cell_type": "code",
   "execution_count": null,
   "metadata": {},
   "outputs": [],
   "source": [
    "CSC.to_excel('CSC.xlsx', engine='xlsxwriter')"
   ]
  },
  {
   "cell_type": "code",
   "execution_count": null,
   "metadata": {},
   "outputs": [],
   "source": [
    "avg = CSC.groupby(['CourseName','TeacherName']).mean()\n",
    "avg = avg.sort_values('SentimentScore', ascending=False)"
   ]
  },
  {
   "cell_type": "code",
   "execution_count": null,
   "metadata": {},
   "outputs": [],
   "source": [
    "avg.to_excel('avg.xlsx')"
   ]
  },
  {
   "cell_type": "code",
   "execution_count": null,
   "metadata": {},
   "outputs": [],
   "source": [
    "import monpa"
   ]
  },
  {
   "cell_type": "code",
   "execution_count": null,
   "metadata": {},
   "outputs": [],
   "source": [
    "CSC['Comments'].head(10)"
   ]
  },
  {
   "cell_type": "code",
   "execution_count": null,
   "metadata": {},
   "outputs": [],
   "source": [
    "def LongPseg(long_sentence, split_char):\n",
    "    seg = []\n",
    "    for item in long_sentence.split(split_char):\n",
    "        if item != \"\\n\": seg.extend(monpa.pseg(item+split_char))\n",
    "    return seg[:-1]"
   ]
  },
  {
   "cell_type": "code",
   "execution_count": null,
   "metadata": {},
   "outputs": [],
   "source": [
    "from collections import Counter\n",
    "WORD = []\n",
    "for i in CSC['Comments']:\n",
    "    result = LongPseg(i,\"，\")\n",
    "    word = result[0][0]\n",
    "    pos = result[0][1]\n",
    "#     if pos== 'Na':\n",
    "#         print(word)\n",
    "#     if pos == 'Nb':\n",
    "#         print(word)\n",
    "#     if pos == 'VH':\n",
    "#         print(word)\n",
    "    for j in range(len(result)):\n",
    "        word = result[j][0]\n",
    "        WORD.append(word)"
   ]
  },
  {
   "cell_type": "code",
   "execution_count": null,
   "metadata": {},
   "outputs": [],
   "source": [
    "RESULT = pd.DataFrame()\n",
    "P = Counter(WORD).most_common()\n",
    "\n",
    "for i in range(2730):\n",
    "    p = monpa.pseg(P[i][0])\n",
    "    if int(P[i][1]) >= 5:\n",
    "        try:\n",
    "            Text = P[i][0]\n",
    "            Pos = p[0][1]\n",
    "            Count = P[i][1]\n",
    "#             print(Text,Pos,Count)\n",
    "            RESULTS = pd.DataFrame(data = [{'Text':Text,\n",
    "                                 'Pos':Pos,\n",
    "                                 'Count':Count}],\n",
    "                      columns = ['Text', 'Pos', 'Count'])\n",
    "            RESULT = pd.concat([RESULT, RESULTS], ignore_index=True)\n",
    "        except: \n",
    "            print('error')\n",
    "# RESULT.to_excel('Pos_Count.xlsx')\n",
    "RESULT"
   ]
  },
  {
   "cell_type": "code",
   "execution_count": null,
   "metadata": {},
   "outputs": [],
   "source": [
    "RESULT.to_excel('Pos_Count.xlsx')"
   ]
  },
  {
   "cell_type": "code",
   "execution_count": null,
   "metadata": {},
   "outputs": [],
   "source": [
    "Text = '低'\n",
    "Pos = 'VH'\n",
    "Count = '8'\n",
    "RESULT = pd.DataFrame(data = [{'Text':Text,\n",
    "                                 'Pos':Pos,\n",
    "                                 'Count':Count}],\n",
    "                      columns = ['Text', 'Pos', 'Count'])\n",
    "TITLE = pd.DataFrame()\n",
    "RESULT = pd.concat([TITLE, RESULT], ignore_index=True)"
   ]
  },
  {
   "cell_type": "code",
   "execution_count": null,
   "metadata": {},
   "outputs": [],
   "source": [
    "RESULT"
   ]
  },
  {
   "cell_type": "code",
   "execution_count": null,
   "metadata": {},
   "outputs": [],
   "source": []
  }
 ],
 "metadata": {
  "kernelspec": {
   "display_name": "Python 3",
   "language": "python",
   "name": "python3"
  },
  "language_info": {
   "codemirror_mode": {
    "name": "ipython",
    "version": 3
   },
   "file_extension": ".py",
   "mimetype": "text/x-python",
   "name": "python",
   "nbconvert_exporter": "python",
   "pygments_lexer": "ipython3",
   "version": "3.7.4"
  },
  "varInspector": {
   "cols": {
    "lenName": 16,
    "lenType": 16,
    "lenVar": 40
   },
   "kernels_config": {
    "python": {
     "delete_cmd_postfix": "",
     "delete_cmd_prefix": "del ",
     "library": "var_list.py",
     "varRefreshCmd": "print(var_dic_list())"
    },
    "r": {
     "delete_cmd_postfix": ") ",
     "delete_cmd_prefix": "rm(",
     "library": "var_list.r",
     "varRefreshCmd": "cat(var_dic_list()) "
    }
   },
   "types_to_exclude": [
    "module",
    "function",
    "builtin_function_or_method",
    "instance",
    "_Feature"
   ],
   "window_display": false
  }
 },
 "nbformat": 4,
 "nbformat_minor": 2
}
