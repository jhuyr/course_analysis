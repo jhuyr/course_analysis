{
 "cells": [
  {
   "cell_type": "code",
   "execution_count": null,
   "metadata": {},
   "outputs": [],
   "source": [
    "import pandas as pd"
   ]
  },
  {
   "cell_type": "code",
   "execution_count": null,
   "metadata": {},
   "outputs": [],
   "source": [
    "xls = pd.ExcelFile('file.xlsx')\n",
    "df = pd.read_excel(xls, '106-2')\n",
    "df_C = pd.read_excel(xls, 'Courses')"
   ]
  },
  {
   "cell_type": "code",
   "execution_count": null,
   "metadata": {},
   "outputs": [],
   "source": [
    "SR = df.SN_STATUS == -200\n",
    "SC = df.SN_STATUS == -201\n",
    "D = df.SN_STATUS == -1\n",
    "A = df.SN_STATUS == 1\n",
    "MR = df.SN_STATUS == -400\n",
    "MC = df.SN_STATUS == -401\n",
    "SS = df.SN_STATUS == 2\n",
    "Std = df.OPERATOR_NAME == \"學生\"\n",
    "SD = df.OP_STDY_DEPT == \"選修\""
   ]
  },
  {
   "cell_type": "code",
   "execution_count": null,
   "metadata": {},
   "outputs": [],
   "source": [
    "Cid = \"GE876A\"\n",
    "Cids = df.OP_CODE == Cid\n",
    "fliter = df_C[\"課程代碼\"] == Cid\n",
    "Cname = df_C[fliter].values[0][7]\n",
    "Tname = df_C[fliter].values[0][13]\n",
    "\n",
    "\n",
    "sr_count = df[Cids & SR].ORD.count()\n",
    "sc_count = df[Cids & SC].ORD.count()\n",
    "\n",
    "print(\"課程名稱: \",Cname)\n",
    "print(\"授課老師: \",Tname)\n",
    "print(\"\\n總登記人次:\",sr_count)\n",
    "print(\"總取消人次:\",sc_count)\n",
    "print(\"\\n登記/取消比: %.4f\"%(sc_count/sr_count))\n",
    "\n",
    "total = df[Cids & SR].ORD.sum()/sr_count\n",
    "top = (df[Cids & SR].ORD[(df['ORD'] <= 3)                  ].count() / sr_count) * 100\n",
    "mid = (df[Cids & SR].ORD[(df['ORD'] <= 6) & (df['ORD'] > 3)].count() / sr_count) * 100\n",
    "bot = (df[Cids & SR].ORD[(df['ORD'] <= 9) & (df['ORD'] > 3)].count() / sr_count) * 100\n",
    "\n",
    "print(\"\\n登記順序平均: %.4f\" % total)\n",
    "print(\"\\n登記順序為 1,2,3 人數比例: %.4f\" % top,\"%\")\n",
    "print(\"登記順序為 4,5,6 人數比例: %.4f\" % mid,\"%\")\n",
    "print(\"登記順序為 7,8,9 人數比例: %.4f\" % bot,\"%\")\n",
    "\n"
   ]
  },
  {
   "cell_type": "code",
   "execution_count": null,
   "metadata": {},
   "outputs": [],
   "source": [
    "cname_data = df[SR].sort_values(by = 'IDCODE', ascending=False)\n",
    "cname_array = cname_data.drop_duplicates(subset='OP_CODE', keep='first', inplace=False)['OP_CODE'].values\n",
    "\n",
    "# 取得選修通識課程"
   ]
  },
  {
   "cell_type": "code",
   "execution_count": null,
   "metadata": {},
   "outputs": [],
   "source": [
    "cname_array"
   ]
  },
  {
   "cell_type": "code",
   "execution_count": null,
   "metadata": {},
   "outputs": [],
   "source": [
    "f_data = [[]]\n",
    "\n",
    "for cn in cname_array:\n",
    "    try:\n",
    "        Cid = cn\n",
    "        Cids = df.OP_CODE == Cid\n",
    "        fliter = df_C[\"課程代碼\"] == Cid\n",
    "        Cname = df_C[fliter].values[0][7]\n",
    "        Tname = df_C[fliter].values[0][13]\n",
    "\n",
    "\n",
    "        sr_count = df[Cids & SR].ORD.count()\n",
    "        sc_count = df[Cids & SC].ORD.count()\n",
    "\n",
    "        print(\"課程名稱: \",Cname)\n",
    "        print(\"授課老師: \",Tname)\n",
    "        print(\"授課代碼: \",cn)\n",
    "        print(\"\\n總登記人次:\",sr_count)\n",
    "        print(\"總取消人次:\",sc_count)\n",
    "        print(\"\\n登記/取消比: %.2f\"%(sc_count/sr_count))\n",
    "\n",
    "        total = df[Cids & SR].ORD.sum()/sr_count\n",
    "        top = (df[Cids & SR].ORD[(df['ORD'] <= 3) & (df['ORD'] > 0)].count() / sr_count) * 100\n",
    "        mid = (df[Cids & SR].ORD[(df['ORD'] <= 6) & (df['ORD'] > 3)].count() / sr_count) * 100\n",
    "        bot = (df[Cids & SR].ORD[(df['ORD'] <= 9) & (df['ORD'] > 6)].count() / sr_count) * 100\n",
    "\n",
    "        print(\"\\n登記順序平均: %.2f\" % total)\n",
    "        print(\"\\n登記順序為 1,2,3 人數比例: %.2f\" % top,\"%\")\n",
    "        print(\"登記順序為 4,5,6 人數比例: %.2f\" % mid,\"%\")\n",
    "        print(\"登記順序為 7,8,9 人數比例: %.2f\" % bot,\"%\")\n",
    "        print(\"----------------------\")\n",
    "        f_data.append([Cname,Tname,cn,sr_count,sc_count,(sc_count/sr_count),total,top,mid,bot])\n",
    "        \n",
    "    except:\n",
    "        print(\"\")"
   ]
  },
  {
   "cell_type": "code",
   "execution_count": null,
   "metadata": {},
   "outputs": [],
   "source": [
    "f_data"
   ]
  },
  {
   "cell_type": "code",
   "execution_count": null,
   "metadata": {},
   "outputs": [],
   "source": [
    "f_data.shape"
   ]
  },
  {
   "cell_type": "code",
   "execution_count": null,
   "metadata": {},
   "outputs": [],
   "source": []
  }
 ],
 "metadata": {
  "kernelspec": {
   "display_name": "Python 3",
   "language": "python",
   "name": "python3"
  },
  "language_info": {
   "codemirror_mode": {
    "name": "ipython",
    "version": 3
   },
   "file_extension": ".py",
   "mimetype": "text/x-python",
   "name": "python",
   "nbconvert_exporter": "python",
   "pygments_lexer": "ipython3",
   "version": "3.7.4"
  },
  "varInspector": {
   "cols": {
    "lenName": 16,
    "lenType": 16,
    "lenVar": 40
   },
   "kernels_config": {
    "python": {
     "delete_cmd_postfix": "",
     "delete_cmd_prefix": "del ",
     "library": "var_list.py",
     "varRefreshCmd": "print(var_dic_list())"
    },
    "r": {
     "delete_cmd_postfix": ") ",
     "delete_cmd_prefix": "rm(",
     "library": "var_list.r",
     "varRefreshCmd": "cat(var_dic_list()) "
    }
   },
   "types_to_exclude": [
    "module",
    "function",
    "builtin_function_or_method",
    "instance",
    "_Feature"
   ],
   "window_display": false
  }
 },
 "nbformat": 4,
 "nbformat_minor": 2
}
